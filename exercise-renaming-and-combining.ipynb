{
 "cells": [
  {
   "cell_type": "markdown",
   "id": "031c0b01",
   "metadata": {
    "papermill": {
     "duration": 0.015753,
     "end_time": "2022-03-29T08:01:06.926874",
     "exception": false,
     "start_time": "2022-03-29T08:01:06.911121",
     "status": "completed"
    },
    "tags": []
   },
   "source": [
    "**This notebook is an exercise in the [Pandas](https://www.kaggle.com/learn/pandas) course.  You can reference the tutorial at [this link](https://www.kaggle.com/residentmario/renaming-and-combining).**\n",
    "\n",
    "---\n"
   ]
  },
  {
   "cell_type": "markdown",
   "id": "0e1d211d",
   "metadata": {
    "papermill": {
     "duration": 0.014401,
     "end_time": "2022-03-29T08:01:06.956416",
     "exception": false,
     "start_time": "2022-03-29T08:01:06.942015",
     "status": "completed"
    },
    "tags": []
   },
   "source": [
    "# Introduction\n",
    "\n",
    "Run the following cell to load your data and some utility functions."
   ]
  },
  {
   "cell_type": "code",
   "execution_count": 1,
   "id": "092bb675",
   "metadata": {
    "execution": {
     "iopub.execute_input": "2022-03-29T08:01:06.989013Z",
     "iopub.status.busy": "2022-03-29T08:01:06.988150Z",
     "iopub.status.idle": "2022-03-29T08:01:10.697878Z",
     "shell.execute_reply": "2022-03-29T08:01:10.697051Z",
     "shell.execute_reply.started": "2022-03-29T07:37:52.916976Z"
    },
    "papermill": {
     "duration": 3.726959,
     "end_time": "2022-03-29T08:01:10.698037",
     "exception": false,
     "start_time": "2022-03-29T08:01:06.971078",
     "status": "completed"
    },
    "tags": []
   },
   "outputs": [
    {
     "name": "stdout",
     "output_type": "stream",
     "text": [
      "Setup complete.\n"
     ]
    }
   ],
   "source": [
    "import pandas as pd\n",
    "\n",
    "reviews = pd.read_csv(\"../input/wine-reviews/winemag-data-130k-v2.csv\", index_col=0)\n",
    "\n",
    "from learntools.core import binder; binder.bind(globals())\n",
    "from learntools.pandas.renaming_and_combining import *\n",
    "print(\"Setup complete.\")"
   ]
  },
  {
   "cell_type": "markdown",
   "id": "a89a8bef",
   "metadata": {
    "papermill": {
     "duration": 0.022464,
     "end_time": "2022-03-29T08:01:10.743973",
     "exception": false,
     "start_time": "2022-03-29T08:01:10.721509",
     "status": "completed"
    },
    "tags": []
   },
   "source": [
    "# Exercises\n",
    "\n",
    "View the first several lines of your data by running the cell below:"
   ]
  },
  {
   "cell_type": "code",
   "execution_count": 2,
   "id": "8f95308f",
   "metadata": {
    "execution": {
     "iopub.execute_input": "2022-03-29T08:01:10.795680Z",
     "iopub.status.busy": "2022-03-29T08:01:10.795040Z",
     "iopub.status.idle": "2022-03-29T08:01:10.813169Z",
     "shell.execute_reply": "2022-03-29T08:01:10.812627Z",
     "shell.execute_reply.started": "2022-03-29T07:37:59.554080Z"
    },
    "papermill": {
     "duration": 0.046533,
     "end_time": "2022-03-29T08:01:10.813324",
     "exception": false,
     "start_time": "2022-03-29T08:01:10.766791",
     "status": "completed"
    },
    "tags": []
   },
   "outputs": [
    {
     "data": {
      "text/html": [
       "<div>\n",
       "<style scoped>\n",
       "    .dataframe tbody tr th:only-of-type {\n",
       "        vertical-align: middle;\n",
       "    }\n",
       "\n",
       "    .dataframe tbody tr th {\n",
       "        vertical-align: top;\n",
       "    }\n",
       "\n",
       "    .dataframe thead th {\n",
       "        text-align: right;\n",
       "    }\n",
       "</style>\n",
       "<table border=\"1\" class=\"dataframe\">\n",
       "  <thead>\n",
       "    <tr style=\"text-align: right;\">\n",
       "      <th></th>\n",
       "      <th>country</th>\n",
       "      <th>description</th>\n",
       "      <th>designation</th>\n",
       "      <th>points</th>\n",
       "      <th>price</th>\n",
       "      <th>province</th>\n",
       "      <th>region_1</th>\n",
       "      <th>region_2</th>\n",
       "      <th>taster_name</th>\n",
       "      <th>taster_twitter_handle</th>\n",
       "      <th>title</th>\n",
       "      <th>variety</th>\n",
       "      <th>winery</th>\n",
       "    </tr>\n",
       "  </thead>\n",
       "  <tbody>\n",
       "    <tr>\n",
       "      <th>0</th>\n",
       "      <td>Italy</td>\n",
       "      <td>Aromas include tropical fruit, broom, brimston...</td>\n",
       "      <td>Vulkà Bianco</td>\n",
       "      <td>87</td>\n",
       "      <td>NaN</td>\n",
       "      <td>Sicily &amp; Sardinia</td>\n",
       "      <td>Etna</td>\n",
       "      <td>NaN</td>\n",
       "      <td>Kerin O’Keefe</td>\n",
       "      <td>@kerinokeefe</td>\n",
       "      <td>Nicosia 2013 Vulkà Bianco  (Etna)</td>\n",
       "      <td>White Blend</td>\n",
       "      <td>Nicosia</td>\n",
       "    </tr>\n",
       "    <tr>\n",
       "      <th>1</th>\n",
       "      <td>Portugal</td>\n",
       "      <td>This is ripe and fruity, a wine that is smooth...</td>\n",
       "      <td>Avidagos</td>\n",
       "      <td>87</td>\n",
       "      <td>15.0</td>\n",
       "      <td>Douro</td>\n",
       "      <td>NaN</td>\n",
       "      <td>NaN</td>\n",
       "      <td>Roger Voss</td>\n",
       "      <td>@vossroger</td>\n",
       "      <td>Quinta dos Avidagos 2011 Avidagos Red (Douro)</td>\n",
       "      <td>Portuguese Red</td>\n",
       "      <td>Quinta dos Avidagos</td>\n",
       "    </tr>\n",
       "    <tr>\n",
       "      <th>2</th>\n",
       "      <td>US</td>\n",
       "      <td>Tart and snappy, the flavors of lime flesh and...</td>\n",
       "      <td>NaN</td>\n",
       "      <td>87</td>\n",
       "      <td>14.0</td>\n",
       "      <td>Oregon</td>\n",
       "      <td>Willamette Valley</td>\n",
       "      <td>Willamette Valley</td>\n",
       "      <td>Paul Gregutt</td>\n",
       "      <td>@paulgwine</td>\n",
       "      <td>Rainstorm 2013 Pinot Gris (Willamette Valley)</td>\n",
       "      <td>Pinot Gris</td>\n",
       "      <td>Rainstorm</td>\n",
       "    </tr>\n",
       "    <tr>\n",
       "      <th>3</th>\n",
       "      <td>US</td>\n",
       "      <td>Pineapple rind, lemon pith and orange blossom ...</td>\n",
       "      <td>Reserve Late Harvest</td>\n",
       "      <td>87</td>\n",
       "      <td>13.0</td>\n",
       "      <td>Michigan</td>\n",
       "      <td>Lake Michigan Shore</td>\n",
       "      <td>NaN</td>\n",
       "      <td>Alexander Peartree</td>\n",
       "      <td>NaN</td>\n",
       "      <td>St. Julian 2013 Reserve Late Harvest Riesling ...</td>\n",
       "      <td>Riesling</td>\n",
       "      <td>St. Julian</td>\n",
       "    </tr>\n",
       "    <tr>\n",
       "      <th>4</th>\n",
       "      <td>US</td>\n",
       "      <td>Much like the regular bottling from 2012, this...</td>\n",
       "      <td>Vintner's Reserve Wild Child Block</td>\n",
       "      <td>87</td>\n",
       "      <td>65.0</td>\n",
       "      <td>Oregon</td>\n",
       "      <td>Willamette Valley</td>\n",
       "      <td>Willamette Valley</td>\n",
       "      <td>Paul Gregutt</td>\n",
       "      <td>@paulgwine</td>\n",
       "      <td>Sweet Cheeks 2012 Vintner's Reserve Wild Child...</td>\n",
       "      <td>Pinot Noir</td>\n",
       "      <td>Sweet Cheeks</td>\n",
       "    </tr>\n",
       "  </tbody>\n",
       "</table>\n",
       "</div>"
      ],
      "text/plain": [
       "    country                                        description  \\\n",
       "0     Italy  Aromas include tropical fruit, broom, brimston...   \n",
       "1  Portugal  This is ripe and fruity, a wine that is smooth...   \n",
       "2        US  Tart and snappy, the flavors of lime flesh and...   \n",
       "3        US  Pineapple rind, lemon pith and orange blossom ...   \n",
       "4        US  Much like the regular bottling from 2012, this...   \n",
       "\n",
       "                          designation  points  price           province  \\\n",
       "0                        Vulkà Bianco      87    NaN  Sicily & Sardinia   \n",
       "1                            Avidagos      87   15.0              Douro   \n",
       "2                                 NaN      87   14.0             Oregon   \n",
       "3                Reserve Late Harvest      87   13.0           Michigan   \n",
       "4  Vintner's Reserve Wild Child Block      87   65.0             Oregon   \n",
       "\n",
       "              region_1           region_2         taster_name  \\\n",
       "0                 Etna                NaN       Kerin O’Keefe   \n",
       "1                  NaN                NaN          Roger Voss   \n",
       "2    Willamette Valley  Willamette Valley        Paul Gregutt   \n",
       "3  Lake Michigan Shore                NaN  Alexander Peartree   \n",
       "4    Willamette Valley  Willamette Valley        Paul Gregutt   \n",
       "\n",
       "  taster_twitter_handle                                              title  \\\n",
       "0          @kerinokeefe                  Nicosia 2013 Vulkà Bianco  (Etna)   \n",
       "1            @vossroger      Quinta dos Avidagos 2011 Avidagos Red (Douro)   \n",
       "2           @paulgwine       Rainstorm 2013 Pinot Gris (Willamette Valley)   \n",
       "3                   NaN  St. Julian 2013 Reserve Late Harvest Riesling ...   \n",
       "4           @paulgwine   Sweet Cheeks 2012 Vintner's Reserve Wild Child...   \n",
       "\n",
       "          variety               winery  \n",
       "0     White Blend              Nicosia  \n",
       "1  Portuguese Red  Quinta dos Avidagos  \n",
       "2      Pinot Gris            Rainstorm  \n",
       "3        Riesling           St. Julian  \n",
       "4      Pinot Noir         Sweet Cheeks  "
      ]
     },
     "execution_count": 2,
     "metadata": {},
     "output_type": "execute_result"
    }
   ],
   "source": [
    "reviews.head()"
   ]
  },
  {
   "cell_type": "markdown",
   "id": "8082f550",
   "metadata": {
    "papermill": {
     "duration": 0.023439,
     "end_time": "2022-03-29T08:01:10.861294",
     "exception": false,
     "start_time": "2022-03-29T08:01:10.837855",
     "status": "completed"
    },
    "tags": []
   },
   "source": [
    "## 1.\n",
    "`region_1` and `region_2` are pretty uninformative names for locale columns in the dataset. Create a copy of `reviews` with these columns renamed to `region` and `locale`, respectively."
   ]
  },
  {
   "cell_type": "code",
   "execution_count": 3,
   "id": "e61576bb",
   "metadata": {
    "execution": {
     "iopub.execute_input": "2022-03-29T08:01:10.912770Z",
     "iopub.status.busy": "2022-03-29T08:01:10.912267Z",
     "iopub.status.idle": "2022-03-29T08:01:10.928352Z",
     "shell.execute_reply": "2022-03-29T08:01:10.928782Z",
     "shell.execute_reply.started": "2022-03-29T07:41:29.123441Z"
    },
    "papermill": {
     "duration": 0.044203,
     "end_time": "2022-03-29T08:01:10.928921",
     "exception": false,
     "start_time": "2022-03-29T08:01:10.884718",
     "status": "completed"
    },
    "tags": []
   },
   "outputs": [
    {
     "data": {
      "application/javascript": [
       "parent.postMessage({\"jupyterEvent\": \"custom.exercise_interaction\", \"data\": {\"outcomeType\": 1, \"valueTowardsCompletion\": 0.25, \"interactionType\": 1, \"questionType\": 1, \"questionId\": \"1_RenameCols\", \"learnToolsVersion\": \"0.3.4\", \"failureMessage\": \"\", \"exceptionClass\": \"\", \"trace\": \"\"}}, \"*\")"
      ],
      "text/plain": [
       "<IPython.core.display.Javascript object>"
      ]
     },
     "metadata": {},
     "output_type": "display_data"
    },
    {
     "data": {
      "text/markdown": [
       "<span style=\"color:#33cc33\">Correct</span>"
      ],
      "text/plain": [
       "Correct"
      ]
     },
     "metadata": {},
     "output_type": "display_data"
    }
   ],
   "source": [
    "# Your code here\n",
    "renamed = reviews.rename(columns={'region_1':'region', 'region_2':'locale' })\n",
    "\n",
    "# Check your answer\n",
    "q1.check()"
   ]
  },
  {
   "cell_type": "code",
   "execution_count": 4,
   "id": "f6e69aae",
   "metadata": {
    "execution": {
     "iopub.execute_input": "2022-03-29T08:01:10.963817Z",
     "iopub.status.busy": "2022-03-29T08:01:10.963373Z",
     "iopub.status.idle": "2022-03-29T08:01:10.965574Z",
     "shell.execute_reply": "2022-03-29T08:01:10.965938Z"
    },
    "papermill": {
     "duration": 0.02067,
     "end_time": "2022-03-29T08:01:10.966049",
     "exception": false,
     "start_time": "2022-03-29T08:01:10.945379",
     "status": "completed"
    },
    "tags": []
   },
   "outputs": [],
   "source": [
    "#q1.hint()\n",
    "#q1.solution()"
   ]
  },
  {
   "cell_type": "markdown",
   "id": "1189bc6d",
   "metadata": {
    "papermill": {
     "duration": 0.016493,
     "end_time": "2022-03-29T08:01:10.998891",
     "exception": false,
     "start_time": "2022-03-29T08:01:10.982398",
     "status": "completed"
    },
    "tags": []
   },
   "source": [
    "## 2.\n",
    "Set the index name in the dataset to `wines`."
   ]
  },
  {
   "cell_type": "code",
   "execution_count": 5,
   "id": "89a8e27f",
   "metadata": {
    "execution": {
     "iopub.execute_input": "2022-03-29T08:01:11.038069Z",
     "iopub.status.busy": "2022-03-29T08:01:11.033632Z",
     "iopub.status.idle": "2022-03-29T08:01:11.052643Z",
     "shell.execute_reply": "2022-03-29T08:01:11.052186Z",
     "shell.execute_reply.started": "2022-03-29T07:45:09.266650Z"
    },
    "papermill": {
     "duration": 0.037163,
     "end_time": "2022-03-29T08:01:11.052743",
     "exception": false,
     "start_time": "2022-03-29T08:01:11.015580",
     "status": "completed"
    },
    "tags": []
   },
   "outputs": [
    {
     "data": {
      "application/javascript": [
       "parent.postMessage({\"jupyterEvent\": \"custom.exercise_interaction\", \"data\": {\"outcomeType\": 1, \"valueTowardsCompletion\": 0.25, \"interactionType\": 1, \"questionType\": 1, \"questionId\": \"2_RenameIndex\", \"learnToolsVersion\": \"0.3.4\", \"failureMessage\": \"\", \"exceptionClass\": \"\", \"trace\": \"\"}}, \"*\")"
      ],
      "text/plain": [
       "<IPython.core.display.Javascript object>"
      ]
     },
     "metadata": {},
     "output_type": "display_data"
    },
    {
     "data": {
      "text/markdown": [
       "<span style=\"color:#33cc33\">Correct</span>"
      ],
      "text/plain": [
       "Correct"
      ]
     },
     "metadata": {},
     "output_type": "display_data"
    }
   ],
   "source": [
    "reindexed = reviews.rename_axis(\"wines\", axis='rows')\n",
    "\n",
    "# Check your answer\n",
    "q2.check()"
   ]
  },
  {
   "cell_type": "code",
   "execution_count": 6,
   "id": "98ccf259",
   "metadata": {
    "execution": {
     "iopub.execute_input": "2022-03-29T08:01:11.092371Z",
     "iopub.status.busy": "2022-03-29T08:01:11.091856Z",
     "iopub.status.idle": "2022-03-29T08:01:11.094557Z",
     "shell.execute_reply": "2022-03-29T08:01:11.094092Z"
    },
    "papermill": {
     "duration": 0.02397,
     "end_time": "2022-03-29T08:01:11.094670",
     "exception": false,
     "start_time": "2022-03-29T08:01:11.070700",
     "status": "completed"
    },
    "tags": []
   },
   "outputs": [],
   "source": [
    "#q2.hint()\n",
    "#q2.solution()"
   ]
  },
  {
   "cell_type": "markdown",
   "id": "ff173615",
   "metadata": {
    "papermill": {
     "duration": 0.018637,
     "end_time": "2022-03-29T08:01:11.131027",
     "exception": false,
     "start_time": "2022-03-29T08:01:11.112390",
     "status": "completed"
    },
    "tags": []
   },
   "source": [
    "## 3.\n",
    "The [Things on Reddit](https://www.kaggle.com/residentmario/things-on-reddit/data) dataset includes product links from a selection of top-ranked forums (\"subreddits\") on reddit.com. Run the cell below to load a dataframe of products mentioned on the */r/gaming* subreddit and another dataframe for products mentioned on the *r//movies* subreddit."
   ]
  },
  {
   "cell_type": "code",
   "execution_count": 7,
   "id": "24520187",
   "metadata": {
    "execution": {
     "iopub.execute_input": "2022-03-29T08:01:11.171314Z",
     "iopub.status.busy": "2022-03-29T08:01:11.170816Z",
     "iopub.status.idle": "2022-03-29T08:01:11.181478Z",
     "shell.execute_reply": "2022-03-29T08:01:11.180998Z",
     "shell.execute_reply.started": "2022-03-29T07:45:28.108707Z"
    },
    "papermill": {
     "duration": 0.03251,
     "end_time": "2022-03-29T08:01:11.181587",
     "exception": false,
     "start_time": "2022-03-29T08:01:11.149077",
     "status": "completed"
    },
    "tags": []
   },
   "outputs": [],
   "source": [
    "gaming_products = pd.read_csv(\"../input/things-on-reddit/top-things/top-things/reddits/g/gaming.csv\")\n",
    "gaming_products['subreddit'] = \"r/gaming\"\n",
    "movie_products = pd.read_csv(\"../input/things-on-reddit/top-things/top-things/reddits/m/movies.csv\")\n",
    "movie_products['subreddit'] = \"r/movies\""
   ]
  },
  {
   "cell_type": "markdown",
   "id": "3302fe7f",
   "metadata": {
    "papermill": {
     "duration": 0.017875,
     "end_time": "2022-03-29T08:01:11.217741",
     "exception": false,
     "start_time": "2022-03-29T08:01:11.199866",
     "status": "completed"
    },
    "tags": []
   },
   "source": [
    "Create a `DataFrame` of products mentioned on *either* subreddit."
   ]
  },
  {
   "cell_type": "code",
   "execution_count": 8,
   "id": "474d2260",
   "metadata": {
    "execution": {
     "iopub.execute_input": "2022-03-29T08:01:11.262325Z",
     "iopub.status.busy": "2022-03-29T08:01:11.261519Z",
     "iopub.status.idle": "2022-03-29T08:01:11.266522Z",
     "shell.execute_reply": "2022-03-29T08:01:11.267021Z",
     "shell.execute_reply.started": "2022-03-29T07:46:47.752947Z"
    },
    "papermill": {
     "duration": 0.031383,
     "end_time": "2022-03-29T08:01:11.267184",
     "exception": false,
     "start_time": "2022-03-29T08:01:11.235801",
     "status": "completed"
    },
    "tags": []
   },
   "outputs": [
    {
     "data": {
      "application/javascript": [
       "parent.postMessage({\"jupyterEvent\": \"custom.exercise_interaction\", \"data\": {\"outcomeType\": 1, \"valueTowardsCompletion\": 0.25, \"interactionType\": 1, \"questionType\": 2, \"questionId\": \"3_ConcatReddit\", \"learnToolsVersion\": \"0.3.4\", \"failureMessage\": \"\", \"exceptionClass\": \"\", \"trace\": \"\"}}, \"*\")"
      ],
      "text/plain": [
       "<IPython.core.display.Javascript object>"
      ]
     },
     "metadata": {},
     "output_type": "display_data"
    },
    {
     "data": {
      "text/markdown": [
       "<span style=\"color:#33cc33\">Correct</span>"
      ],
      "text/plain": [
       "Correct"
      ]
     },
     "metadata": {},
     "output_type": "display_data"
    }
   ],
   "source": [
    "combined_products = pd.concat([gaming_products,movie_products])\n",
    "\n",
    "# Check your answer\n",
    "q3.check()"
   ]
  },
  {
   "cell_type": "code",
   "execution_count": 9,
   "id": "74282580",
   "metadata": {
    "execution": {
     "iopub.execute_input": "2022-03-29T08:01:11.328174Z",
     "iopub.status.busy": "2022-03-29T08:01:11.327518Z",
     "iopub.status.idle": "2022-03-29T08:01:11.331480Z",
     "shell.execute_reply": "2022-03-29T08:01:11.332000Z"
    },
    "papermill": {
     "duration": 0.035343,
     "end_time": "2022-03-29T08:01:11.332171",
     "exception": false,
     "start_time": "2022-03-29T08:01:11.296828",
     "status": "completed"
    },
    "tags": []
   },
   "outputs": [],
   "source": [
    "#q3.hint()\n",
    "#q3.solution()"
   ]
  },
  {
   "cell_type": "markdown",
   "id": "089fdd1f",
   "metadata": {
    "papermill": {
     "duration": 0.029203,
     "end_time": "2022-03-29T08:01:11.390754",
     "exception": false,
     "start_time": "2022-03-29T08:01:11.361551",
     "status": "completed"
    },
    "tags": []
   },
   "source": [
    "## 4.\n",
    "The [Powerlifting Database](https://www.kaggle.com/open-powerlifting/powerlifting-database) dataset on Kaggle includes one CSV table for powerlifting meets and a separate one for powerlifting competitors. Run the cell below to load these datasets into dataframes:"
   ]
  },
  {
   "cell_type": "code",
   "execution_count": 10,
   "id": "acc72ec1",
   "metadata": {
    "execution": {
     "iopub.execute_input": "2022-03-29T08:01:11.452133Z",
     "iopub.status.busy": "2022-03-29T08:01:11.451291Z",
     "iopub.status.idle": "2022-03-29T08:01:11.944016Z",
     "shell.execute_reply": "2022-03-29T08:01:11.943361Z",
     "shell.execute_reply.started": "2022-03-29T07:48:36.494684Z"
    },
    "papermill": {
     "duration": 0.524316,
     "end_time": "2022-03-29T08:01:11.944147",
     "exception": false,
     "start_time": "2022-03-29T08:01:11.419831",
     "status": "completed"
    },
    "tags": []
   },
   "outputs": [],
   "source": [
    "powerlifting_meets = pd.read_csv(\"../input/powerlifting-database/meets.csv\")\n",
    "powerlifting_competitors = pd.read_csv(\"../input/powerlifting-database/openpowerlifting.csv\")"
   ]
  },
  {
   "cell_type": "markdown",
   "id": "84c9833d",
   "metadata": {
    "papermill": {
     "duration": 0.02816,
     "end_time": "2022-03-29T08:01:12.002761",
     "exception": false,
     "start_time": "2022-03-29T08:01:11.974601",
     "status": "completed"
    },
    "tags": []
   },
   "source": [
    "Both tables include references to a `MeetID`, a unique key for each meet (competition) included in the database. Using this, generate a dataset combining the two tables into one."
   ]
  },
  {
   "cell_type": "code",
   "execution_count": 11,
   "id": "98b6030b",
   "metadata": {
    "execution": {
     "iopub.execute_input": "2022-03-29T08:01:12.062659Z",
     "iopub.status.busy": "2022-03-29T08:01:12.061998Z",
     "iopub.status.idle": "2022-03-29T08:01:12.779349Z",
     "shell.execute_reply": "2022-03-29T08:01:12.778898Z",
     "shell.execute_reply.started": "2022-03-29T08:00:41.101357Z"
    },
    "papermill": {
     "duration": 0.748171,
     "end_time": "2022-03-29T08:01:12.779503",
     "exception": false,
     "start_time": "2022-03-29T08:01:12.031332",
     "status": "completed"
    },
    "tags": []
   },
   "outputs": [
    {
     "data": {
      "application/javascript": [
       "parent.postMessage({\"jupyterEvent\": \"custom.exercise_interaction\", \"data\": {\"outcomeType\": 1, \"valueTowardsCompletion\": 0.25, \"interactionType\": 1, \"questionType\": 2, \"questionId\": \"4_JoinLifting\", \"learnToolsVersion\": \"0.3.4\", \"failureMessage\": \"\", \"exceptionClass\": \"\", \"trace\": \"\"}}, \"*\")"
      ],
      "text/plain": [
       "<IPython.core.display.Javascript object>"
      ]
     },
     "metadata": {},
     "output_type": "display_data"
    },
    {
     "data": {
      "text/markdown": [
       "<span style=\"color:#33cc33\">Correct</span>"
      ],
      "text/plain": [
       "Correct"
      ]
     },
     "metadata": {},
     "output_type": "display_data"
    }
   ],
   "source": [
    "powerlifting_combined = powerlifting_meets.set_index('MeetID').join(powerlifting_competitors.set_index('MeetID'))\n",
    "\n",
    "# Check your answer\n",
    "q4.check()"
   ]
  },
  {
   "cell_type": "code",
   "execution_count": 12,
   "id": "63b42f21",
   "metadata": {
    "execution": {
     "iopub.execute_input": "2022-03-29T08:01:12.824659Z",
     "iopub.status.busy": "2022-03-29T08:01:12.823328Z",
     "iopub.status.idle": "2022-03-29T08:01:12.826472Z",
     "shell.execute_reply": "2022-03-29T08:01:12.826892Z"
    },
    "papermill": {
     "duration": 0.027525,
     "end_time": "2022-03-29T08:01:12.827046",
     "exception": false,
     "start_time": "2022-03-29T08:01:12.799521",
     "status": "completed"
    },
    "tags": []
   },
   "outputs": [],
   "source": [
    "#q4.hint()\n",
    "#q4.solution()"
   ]
  },
  {
   "cell_type": "markdown",
   "id": "c30857dd",
   "metadata": {
    "papermill": {
     "duration": 0.019726,
     "end_time": "2022-03-29T08:01:12.867296",
     "exception": false,
     "start_time": "2022-03-29T08:01:12.847570",
     "status": "completed"
    },
    "tags": []
   },
   "source": [
    "# Congratulations!\n",
    "\n",
    "You've finished the Pandas micro-course.  Many data scientists feel efficiency with Pandas is the most useful and practical skill they have, because it allows you to progress quickly in any project you have.\n",
    "\n",
    "If you'd like to apply your new skills to examining geospatial data, you're encouraged to check out our **[Geospatial Analysis](https://www.kaggle.com/learn/geospatial-analysis)** micro-course.\n",
    "\n",
    "You can also take advantage of your Pandas skills by entering a **[Kaggle Competition](https://www.kaggle.com/competitions)** or by answering a question you find interesting using **[Kaggle Datasets](https://www.kaggle.com/datasets)**."
   ]
  },
  {
   "cell_type": "markdown",
   "id": "419e6540",
   "metadata": {
    "papermill": {
     "duration": 0.019672,
     "end_time": "2022-03-29T08:01:12.907254",
     "exception": false,
     "start_time": "2022-03-29T08:01:12.887582",
     "status": "completed"
    },
    "tags": []
   },
   "source": [
    "---\n",
    "\n",
    "\n",
    "\n",
    "\n",
    "*Have questions or comments? Visit the [course discussion forum](https://www.kaggle.com/learn/pandas/discussion) to chat with other learners.*"
   ]
  }
 ],
 "metadata": {
  "kernelspec": {
   "display_name": "Python 3",
   "language": "python",
   "name": "python3"
  },
  "language_info": {
   "codemirror_mode": {
    "name": "ipython",
    "version": 3
   },
   "file_extension": ".py",
   "mimetype": "text/x-python",
   "name": "python",
   "nbconvert_exporter": "python",
   "pygments_lexer": "ipython3",
   "version": "3.7.12"
  },
  "papermill": {
   "default_parameters": {},
   "duration": 14.531216,
   "end_time": "2022-03-29T08:01:13.535236",
   "environment_variables": {},
   "exception": null,
   "input_path": "__notebook__.ipynb",
   "output_path": "__notebook__.ipynb",
   "parameters": {},
   "start_time": "2022-03-29T08:00:59.004020",
   "version": "2.3.3"
  }
 },
 "nbformat": 4,
 "nbformat_minor": 5
}
