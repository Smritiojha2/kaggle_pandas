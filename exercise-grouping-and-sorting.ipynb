{
 "cells": [
  {
   "cell_type": "markdown",
   "id": "26c2f3ca",
   "metadata": {
    "papermill": {
     "duration": 0.022834,
     "end_time": "2022-03-28T18:32:36.313836",
     "exception": false,
     "start_time": "2022-03-28T18:32:36.291002",
     "status": "completed"
    },
    "tags": []
   },
   "source": [
    "**This notebook is an exercise in the [Pandas](https://www.kaggle.com/learn/pandas) course.  You can reference the tutorial at [this link](https://www.kaggle.com/residentmario/grouping-and-sorting).**\n",
    "\n",
    "---\n"
   ]
  },
  {
   "cell_type": "markdown",
   "id": "0c727b44",
   "metadata": {
    "papermill": {
     "duration": 0.02123,
     "end_time": "2022-03-28T18:32:36.357027",
     "exception": false,
     "start_time": "2022-03-28T18:32:36.335797",
     "status": "completed"
    },
    "tags": []
   },
   "source": [
    "# Introduction\n",
    "\n",
    "In these exercises we'll apply groupwise analysis to our dataset.\n",
    "\n",
    "Run the code cell below to load the data before running the exercises."
   ]
  },
  {
   "cell_type": "code",
   "execution_count": 1,
   "id": "921ce3d1",
   "metadata": {
    "execution": {
     "iopub.execute_input": "2022-03-28T18:32:36.413589Z",
     "iopub.status.busy": "2022-03-28T18:32:36.412669Z",
     "iopub.status.idle": "2022-03-28T18:32:39.395938Z",
     "shell.execute_reply": "2022-03-28T18:32:39.396484Z",
     "shell.execute_reply.started": "2022-03-28T18:32:02.010727Z"
    },
    "papermill": {
     "duration": 3.018282,
     "end_time": "2022-03-28T18:32:39.396777",
     "exception": false,
     "start_time": "2022-03-28T18:32:36.378495",
     "status": "completed"
    },
    "tags": []
   },
   "outputs": [
    {
     "name": "stdout",
     "output_type": "stream",
     "text": [
      "Setup complete.\n"
     ]
    }
   ],
   "source": [
    "import pandas as pd\n",
    "\n",
    "reviews = pd.read_csv(\"../input/wine-reviews/winemag-data-130k-v2.csv\", index_col=0)\n",
    "#pd.set_option(\"display.max_rows\", 5)\n",
    "\n",
    "from learntools.core import binder; binder.bind(globals())\n",
    "from learntools.pandas.grouping_and_sorting import *\n",
    "print(\"Setup complete.\")"
   ]
  },
  {
   "cell_type": "markdown",
   "id": "c2d7a9b6",
   "metadata": {
    "papermill": {
     "duration": 0.021865,
     "end_time": "2022-03-28T18:32:39.443025",
     "exception": false,
     "start_time": "2022-03-28T18:32:39.421160",
     "status": "completed"
    },
    "tags": []
   },
   "source": [
    "# Exercises"
   ]
  },
  {
   "cell_type": "markdown",
   "id": "976fdc5c",
   "metadata": {
    "papermill": {
     "duration": 0.022166,
     "end_time": "2022-03-28T18:32:39.487547",
     "exception": false,
     "start_time": "2022-03-28T18:32:39.465381",
     "status": "completed"
    },
    "tags": []
   },
   "source": [
    "## 1.\n",
    "Who are the most common wine reviewers in the dataset? Create a `Series` whose index is the `taster_twitter_handle` category from the dataset, and whose values count how many reviews each person wrote."
   ]
  },
  {
   "cell_type": "code",
   "execution_count": 2,
   "id": "47381175",
   "metadata": {
    "execution": {
     "iopub.execute_input": "2022-03-28T18:32:39.554514Z",
     "iopub.status.busy": "2022-03-28T18:32:39.553523Z",
     "iopub.status.idle": "2022-03-28T18:32:39.577525Z",
     "shell.execute_reply": "2022-03-28T18:32:39.578010Z",
     "shell.execute_reply.started": "2022-03-28T18:32:03.463853Z"
    },
    "papermill": {
     "duration": 0.067459,
     "end_time": "2022-03-28T18:32:39.578177",
     "exception": false,
     "start_time": "2022-03-28T18:32:39.510718",
     "status": "completed"
    },
    "tags": []
   },
   "outputs": [
    {
     "data": {
      "application/javascript": [
       "parent.postMessage({\"jupyterEvent\": \"custom.exercise_interaction\", \"data\": {\"outcomeType\": 1, \"valueTowardsCompletion\": 0.16666666666666666, \"interactionType\": 1, \"questionType\": 1, \"questionId\": \"1_ReviewsWritten\", \"learnToolsVersion\": \"0.3.4\", \"failureMessage\": \"\", \"exceptionClass\": \"\", \"trace\": \"\"}}, \"*\")"
      ],
      "text/plain": [
       "<IPython.core.display.Javascript object>"
      ]
     },
     "metadata": {},
     "output_type": "display_data"
    },
    {
     "data": {
      "text/markdown": [
       "<span style=\"color:#33cc33\">Correct:</span> \n",
       "\n",
       "\n",
       "```python\n",
       "reviews_written = reviews.groupby('taster_twitter_handle').size()\n",
       "```\n",
       "or\n",
       "```python\n",
       "reviews_written = reviews.groupby('taster_twitter_handle').taster_twitter_handle.count()\n",
       "```\n"
      ],
      "text/plain": [
       "Correct: \n",
       "\n",
       "\n",
       "```python\n",
       "reviews_written = reviews.groupby('taster_twitter_handle').size()\n",
       "```\n",
       "or\n",
       "```python\n",
       "reviews_written = reviews.groupby('taster_twitter_handle').taster_twitter_handle.count()\n",
       "```"
      ]
     },
     "metadata": {},
     "output_type": "display_data"
    }
   ],
   "source": [
    "# Your code here\n",
    "reviews_written = reviews.groupby(['taster_twitter_handle']).taster_twitter_handle.count()\n",
    "\n",
    "# Check your answer\n",
    "q1.check()"
   ]
  },
  {
   "cell_type": "code",
   "execution_count": 3,
   "id": "af71364d",
   "metadata": {
    "execution": {
     "iopub.execute_input": "2022-03-28T18:32:39.629681Z",
     "iopub.status.busy": "2022-03-28T18:32:39.628979Z",
     "iopub.status.idle": "2022-03-28T18:32:39.633078Z",
     "shell.execute_reply": "2022-03-28T18:32:39.632561Z",
     "shell.execute_reply.started": "2022-03-28T18:32:03.511526Z"
    },
    "papermill": {
     "duration": 0.030564,
     "end_time": "2022-03-28T18:32:39.633220",
     "exception": false,
     "start_time": "2022-03-28T18:32:39.602656",
     "status": "completed"
    },
    "tags": []
   },
   "outputs": [],
   "source": [
    "#q1.hint()\n",
    "#q1.solution()"
   ]
  },
  {
   "cell_type": "markdown",
   "id": "29d71596",
   "metadata": {
    "papermill": {
     "duration": 0.023684,
     "end_time": "2022-03-28T18:32:39.681488",
     "exception": false,
     "start_time": "2022-03-28T18:32:39.657804",
     "status": "completed"
    },
    "tags": []
   },
   "source": [
    "## 2.\n",
    "What is the best wine I can buy for a given amount of money? Create a `Series` whose index is wine prices and whose values is the maximum number of points a wine costing that much was given in a review. Sort the values by price, ascending (so that `4.0` dollars is at the top and `3300.0` dollars is at the bottom)."
   ]
  },
  {
   "cell_type": "code",
   "execution_count": 4,
   "id": "24935053",
   "metadata": {
    "execution": {
     "iopub.execute_input": "2022-03-28T18:32:39.732668Z",
     "iopub.status.busy": "2022-03-28T18:32:39.731972Z",
     "iopub.status.idle": "2022-03-28T18:32:39.743053Z",
     "shell.execute_reply": "2022-03-28T18:32:39.743598Z",
     "shell.execute_reply.started": "2022-03-28T18:32:03.517555Z"
    },
    "papermill": {
     "duration": 0.038468,
     "end_time": "2022-03-28T18:32:39.743786",
     "exception": false,
     "start_time": "2022-03-28T18:32:39.705318",
     "status": "completed"
    },
    "tags": []
   },
   "outputs": [
    {
     "data": {
      "application/javascript": [
       "parent.postMessage({\"jupyterEvent\": \"custom.exercise_interaction\", \"data\": {\"outcomeType\": 1, \"valueTowardsCompletion\": 0.16666666666666666, \"interactionType\": 1, \"questionType\": 1, \"questionId\": \"2_BestRatingPerPrice\", \"learnToolsVersion\": \"0.3.4\", \"failureMessage\": \"\", \"exceptionClass\": \"\", \"trace\": \"\"}}, \"*\")"
      ],
      "text/plain": [
       "<IPython.core.display.Javascript object>"
      ]
     },
     "metadata": {},
     "output_type": "display_data"
    },
    {
     "data": {
      "text/markdown": [
       "<span style=\"color:#33cc33\">Correct</span>"
      ],
      "text/plain": [
       "Correct"
      ]
     },
     "metadata": {},
     "output_type": "display_data"
    }
   ],
   "source": [
    "best_rating_per_price = reviews.groupby('price').points.max().sort_index()\n",
    "\n",
    "# Check your answer\n",
    "q2.check()"
   ]
  },
  {
   "cell_type": "code",
   "execution_count": 5,
   "id": "a357d15c",
   "metadata": {
    "execution": {
     "iopub.execute_input": "2022-03-28T18:32:39.798398Z",
     "iopub.status.busy": "2022-03-28T18:32:39.797742Z",
     "iopub.status.idle": "2022-03-28T18:32:39.800732Z",
     "shell.execute_reply": "2022-03-28T18:32:39.801301Z",
     "shell.execute_reply.started": "2022-03-28T18:32:03.542694Z"
    },
    "papermill": {
     "duration": 0.03251,
     "end_time": "2022-03-28T18:32:39.801488",
     "exception": false,
     "start_time": "2022-03-28T18:32:39.768978",
     "status": "completed"
    },
    "tags": []
   },
   "outputs": [],
   "source": [
    "#q2.hint()\n",
    "#q2.solution()"
   ]
  },
  {
   "cell_type": "markdown",
   "id": "03778275",
   "metadata": {
    "papermill": {
     "duration": 0.02519,
     "end_time": "2022-03-28T18:32:39.851350",
     "exception": false,
     "start_time": "2022-03-28T18:32:39.826160",
     "status": "completed"
    },
    "tags": []
   },
   "source": [
    "## 3.\n",
    "What are the minimum and maximum prices for each `variety` of wine? Create a `DataFrame` whose index is the `variety` category from the dataset and whose values are the `min` and `max` values thereof."
   ]
  },
  {
   "cell_type": "code",
   "execution_count": 6,
   "id": "0b70bbc8",
   "metadata": {
    "execution": {
     "iopub.execute_input": "2022-03-28T18:32:39.924660Z",
     "iopub.status.busy": "2022-03-28T18:32:39.923631Z",
     "iopub.status.idle": "2022-03-28T18:32:39.934238Z",
     "shell.execute_reply": "2022-03-28T18:32:39.934758Z",
     "shell.execute_reply.started": "2022-03-28T18:32:03.551406Z"
    },
    "papermill": {
     "duration": 0.058911,
     "end_time": "2022-03-28T18:32:39.934925",
     "exception": false,
     "start_time": "2022-03-28T18:32:39.876014",
     "status": "completed"
    },
    "tags": []
   },
   "outputs": [
    {
     "data": {
      "application/javascript": [
       "parent.postMessage({\"jupyterEvent\": \"custom.exercise_interaction\", \"data\": {\"outcomeType\": 1, \"valueTowardsCompletion\": 0.16666666666666666, \"interactionType\": 1, \"questionType\": 1, \"questionId\": \"3_PriceExtremes\", \"learnToolsVersion\": \"0.3.4\", \"failureMessage\": \"\", \"exceptionClass\": \"\", \"trace\": \"\"}}, \"*\")"
      ],
      "text/plain": [
       "<IPython.core.display.Javascript object>"
      ]
     },
     "metadata": {},
     "output_type": "display_data"
    },
    {
     "data": {
      "text/markdown": [
       "<span style=\"color:#33cc33\">Correct</span>"
      ],
      "text/plain": [
       "Correct"
      ]
     },
     "metadata": {},
     "output_type": "display_data"
    }
   ],
   "source": [
    "price_extremes = reviews.groupby(['variety']).price.agg([min,max])\n",
    "\n",
    "# Check your answer\n",
    "q3.check()"
   ]
  },
  {
   "cell_type": "code",
   "execution_count": 7,
   "id": "d3f3b573",
   "metadata": {
    "execution": {
     "iopub.execute_input": "2022-03-28T18:32:39.991663Z",
     "iopub.status.busy": "2022-03-28T18:32:39.990722Z",
     "iopub.status.idle": "2022-03-28T18:32:39.993867Z",
     "shell.execute_reply": "2022-03-28T18:32:39.994457Z",
     "shell.execute_reply.started": "2022-03-28T18:32:03.593274Z"
    },
    "papermill": {
     "duration": 0.033304,
     "end_time": "2022-03-28T18:32:39.994623",
     "exception": false,
     "start_time": "2022-03-28T18:32:39.961319",
     "status": "completed"
    },
    "tags": []
   },
   "outputs": [],
   "source": [
    "#q3.hint()\n",
    "#q3.solution()"
   ]
  },
  {
   "cell_type": "markdown",
   "id": "b4662aa6",
   "metadata": {
    "papermill": {
     "duration": 0.025848,
     "end_time": "2022-03-28T18:32:40.046045",
     "exception": false,
     "start_time": "2022-03-28T18:32:40.020197",
     "status": "completed"
    },
    "tags": []
   },
   "source": [
    "## 4.\n",
    "What are the most expensive wine varieties? Create a variable `sorted_varieties` containing a copy of the dataframe from the previous question where varieties are sorted in descending order based on minimum price, then on maximum price (to break ties)."
   ]
  },
  {
   "cell_type": "code",
   "execution_count": 8,
   "id": "98a1ae7d",
   "metadata": {
    "execution": {
     "iopub.execute_input": "2022-03-28T18:32:40.100881Z",
     "iopub.status.busy": "2022-03-28T18:32:40.099884Z",
     "iopub.status.idle": "2022-03-28T18:32:40.131456Z",
     "shell.execute_reply": "2022-03-28T18:32:40.130903Z",
     "shell.execute_reply.started": "2022-03-28T18:32:03.599140Z"
    },
    "papermill": {
     "duration": 0.059998,
     "end_time": "2022-03-28T18:32:40.131602",
     "exception": false,
     "start_time": "2022-03-28T18:32:40.071604",
     "status": "completed"
    },
    "tags": []
   },
   "outputs": [
    {
     "data": {
      "application/javascript": [
       "parent.postMessage({\"jupyterEvent\": \"custom.exercise_interaction\", \"data\": {\"outcomeType\": 1, \"valueTowardsCompletion\": 0.16666666666666666, \"interactionType\": 1, \"questionType\": 1, \"questionId\": \"4_SortedVarieties\", \"learnToolsVersion\": \"0.3.4\", \"failureMessage\": \"\", \"exceptionClass\": \"\", \"trace\": \"\"}}, \"*\")"
      ],
      "text/plain": [
       "<IPython.core.display.Javascript object>"
      ]
     },
     "metadata": {},
     "output_type": "display_data"
    },
    {
     "data": {
      "text/markdown": [
       "<span style=\"color:#33cc33\">Correct</span>"
      ],
      "text/plain": [
       "Correct"
      ]
     },
     "metadata": {},
     "output_type": "display_data"
    }
   ],
   "source": [
    "sorted_varieties = reviews.groupby(['variety']).price.agg([min,max]).sort_values(by=['min','max'],ascending=False)\n",
    "\n",
    "# Check your answer\n",
    "q4.check()"
   ]
  },
  {
   "cell_type": "code",
   "execution_count": 9,
   "id": "10b8d07e",
   "metadata": {
    "execution": {
     "iopub.execute_input": "2022-03-28T18:32:40.190209Z",
     "iopub.status.busy": "2022-03-28T18:32:40.189534Z",
     "iopub.status.idle": "2022-03-28T18:32:40.192148Z",
     "shell.execute_reply": "2022-03-28T18:32:40.192611Z",
     "shell.execute_reply.started": "2022-03-28T18:32:03.648352Z"
    },
    "papermill": {
     "duration": 0.033339,
     "end_time": "2022-03-28T18:32:40.192796",
     "exception": false,
     "start_time": "2022-03-28T18:32:40.159457",
     "status": "completed"
    },
    "tags": []
   },
   "outputs": [],
   "source": [
    "#q4.hint()\n",
    "#q4.solution()"
   ]
  },
  {
   "cell_type": "markdown",
   "id": "4ea46379",
   "metadata": {
    "papermill": {
     "duration": 0.026859,
     "end_time": "2022-03-28T18:32:40.247253",
     "exception": false,
     "start_time": "2022-03-28T18:32:40.220394",
     "status": "completed"
    },
    "tags": []
   },
   "source": [
    "## 5.\n",
    "Create a `Series` whose index is reviewers and whose values is the average review score given out by that reviewer. Hint: you will need the `taster_name` and `points` columns."
   ]
  },
  {
   "cell_type": "code",
   "execution_count": 10,
   "id": "8f504372",
   "metadata": {
    "execution": {
     "iopub.execute_input": "2022-03-28T18:32:40.305103Z",
     "iopub.status.busy": "2022-03-28T18:32:40.304126Z",
     "iopub.status.idle": "2022-03-28T18:32:40.330102Z",
     "shell.execute_reply": "2022-03-28T18:32:40.330745Z",
     "shell.execute_reply.started": "2022-03-28T18:32:03.657698Z"
    },
    "papermill": {
     "duration": 0.056749,
     "end_time": "2022-03-28T18:32:40.330916",
     "exception": false,
     "start_time": "2022-03-28T18:32:40.274167",
     "status": "completed"
    },
    "tags": []
   },
   "outputs": [
    {
     "data": {
      "application/javascript": [
       "parent.postMessage({\"jupyterEvent\": \"custom.exercise_interaction\", \"data\": {\"outcomeType\": 1, \"valueTowardsCompletion\": 0.16666666666666666, \"interactionType\": 1, \"questionType\": 1, \"questionId\": \"5_ReviewerMeanRatings\", \"learnToolsVersion\": \"0.3.4\", \"failureMessage\": \"\", \"exceptionClass\": \"\", \"trace\": \"\"}}, \"*\")"
      ],
      "text/plain": [
       "<IPython.core.display.Javascript object>"
      ]
     },
     "metadata": {},
     "output_type": "display_data"
    },
    {
     "data": {
      "text/markdown": [
       "<span style=\"color:#33cc33\">Correct</span>"
      ],
      "text/plain": [
       "Correct"
      ]
     },
     "metadata": {},
     "output_type": "display_data"
    }
   ],
   "source": [
    "reviewer_mean_ratings = reviews.groupby(['taster_name']).points.mean()\n",
    "# Check your answer\n",
    "q5.check()"
   ]
  },
  {
   "cell_type": "code",
   "execution_count": 11,
   "id": "73e39cd8",
   "metadata": {
    "execution": {
     "iopub.execute_input": "2022-03-28T18:32:40.392424Z",
     "iopub.status.busy": "2022-03-28T18:32:40.391065Z",
     "iopub.status.idle": "2022-03-28T18:32:40.394410Z",
     "shell.execute_reply": "2022-03-28T18:32:40.394954Z",
     "shell.execute_reply.started": "2022-03-28T18:32:03.695968Z"
    },
    "papermill": {
     "duration": 0.035454,
     "end_time": "2022-03-28T18:32:40.395121",
     "exception": false,
     "start_time": "2022-03-28T18:32:40.359667",
     "status": "completed"
    },
    "tags": []
   },
   "outputs": [],
   "source": [
    "#q5.hint()\n",
    "#q5.solution()"
   ]
  },
  {
   "cell_type": "markdown",
   "id": "3fdfc54c",
   "metadata": {
    "papermill": {
     "duration": 0.028187,
     "end_time": "2022-03-28T18:32:40.452276",
     "exception": false,
     "start_time": "2022-03-28T18:32:40.424089",
     "status": "completed"
    },
    "tags": []
   },
   "source": [
    "Are there significant differences in the average scores assigned by the various reviewers? Run the cell below to use the `describe()` method to see a summary of the range of values."
   ]
  },
  {
   "cell_type": "code",
   "execution_count": 12,
   "id": "3a73594c",
   "metadata": {
    "execution": {
     "iopub.execute_input": "2022-03-28T18:32:40.512293Z",
     "iopub.status.busy": "2022-03-28T18:32:40.511310Z",
     "iopub.status.idle": "2022-03-28T18:32:40.523657Z",
     "shell.execute_reply": "2022-03-28T18:32:40.524269Z",
     "shell.execute_reply.started": "2022-03-28T18:32:03.702988Z"
    },
    "papermill": {
     "duration": 0.043962,
     "end_time": "2022-03-28T18:32:40.524450",
     "exception": false,
     "start_time": "2022-03-28T18:32:40.480488",
     "status": "completed"
    },
    "tags": []
   },
   "outputs": [
    {
     "data": {
      "text/plain": [
       "count    19.000000\n",
       "mean     88.233026\n",
       "std       1.243610\n",
       "min      85.855422\n",
       "25%      87.323501\n",
       "50%      88.536235\n",
       "75%      88.975256\n",
       "max      90.562551\n",
       "Name: points, dtype: float64"
      ]
     },
     "execution_count": 12,
     "metadata": {},
     "output_type": "execute_result"
    }
   ],
   "source": [
    "reviewer_mean_ratings.describe()"
   ]
  },
  {
   "cell_type": "markdown",
   "id": "df70001d",
   "metadata": {
    "papermill": {
     "duration": 0.029064,
     "end_time": "2022-03-28T18:32:40.582470",
     "exception": false,
     "start_time": "2022-03-28T18:32:40.553406",
     "status": "completed"
    },
    "tags": []
   },
   "source": [
    "## 6.\n",
    "What combination of countries and varieties are most common? Create a `Series` whose index is a `MultiIndex`of `{country, variety}` pairs. For example, a pinot noir produced in the US should map to `{\"US\", \"Pinot Noir\"}`. Sort the values in the `Series` in descending order based on wine count."
   ]
  },
  {
   "cell_type": "code",
   "execution_count": 13,
   "id": "19264bc7",
   "metadata": {
    "execution": {
     "iopub.execute_input": "2022-03-28T18:32:40.643299Z",
     "iopub.status.busy": "2022-03-28T18:32:40.642278Z",
     "iopub.status.idle": "2022-03-28T18:32:40.689942Z",
     "shell.execute_reply": "2022-03-28T18:32:40.690470Z",
     "shell.execute_reply.started": "2022-03-28T18:32:03.725191Z"
    },
    "papermill": {
     "duration": 0.079777,
     "end_time": "2022-03-28T18:32:40.690645",
     "exception": false,
     "start_time": "2022-03-28T18:32:40.610868",
     "status": "completed"
    },
    "tags": []
   },
   "outputs": [
    {
     "data": {
      "application/javascript": [
       "parent.postMessage({\"jupyterEvent\": \"custom.exercise_interaction\", \"data\": {\"outcomeType\": 1, \"valueTowardsCompletion\": 0.16666666666666666, \"interactionType\": 1, \"questionType\": 1, \"questionId\": \"6_GroupbyCountryVariety\", \"learnToolsVersion\": \"0.3.4\", \"failureMessage\": \"\", \"exceptionClass\": \"\", \"trace\": \"\"}}, \"*\")"
      ],
      "text/plain": [
       "<IPython.core.display.Javascript object>"
      ]
     },
     "metadata": {},
     "output_type": "display_data"
    },
    {
     "data": {
      "text/markdown": [
       "<span style=\"color:#33cc33\">Correct</span>"
      ],
      "text/plain": [
       "Correct"
      ]
     },
     "metadata": {},
     "output_type": "display_data"
    }
   ],
   "source": [
    "country_variety_counts = reviews.groupby(['country','variety']).size().sort_values(ascending=False)\n",
    "\n",
    "# Check your answer\n",
    "q6.check()"
   ]
  },
  {
   "cell_type": "code",
   "execution_count": 14,
   "id": "4a79387e",
   "metadata": {
    "execution": {
     "iopub.execute_input": "2022-03-28T18:32:40.758599Z",
     "iopub.status.busy": "2022-03-28T18:32:40.757482Z",
     "iopub.status.idle": "2022-03-28T18:32:40.762763Z",
     "shell.execute_reply": "2022-03-28T18:32:40.763246Z",
     "shell.execute_reply.started": "2022-03-28T18:32:03.790188Z"
    },
    "papermill": {
     "duration": 0.042968,
     "end_time": "2022-03-28T18:32:40.763447",
     "exception": false,
     "start_time": "2022-03-28T18:32:40.720479",
     "status": "completed"
    },
    "tags": []
   },
   "outputs": [
    {
     "data": {
      "application/javascript": [
       "parent.postMessage({\"jupyterEvent\": \"custom.exercise_interaction\", \"data\": {\"interactionType\": 2, \"questionType\": 1, \"questionId\": \"6_GroupbyCountryVariety\", \"learnToolsVersion\": \"0.3.4\", \"valueTowardsCompletion\": 0.0, \"failureMessage\": \"\", \"exceptionClass\": \"\", \"trace\": \"\", \"outcomeType\": 4}}, \"*\")"
      ],
      "text/plain": [
       "<IPython.core.display.Javascript object>"
      ]
     },
     "metadata": {},
     "output_type": "display_data"
    },
    {
     "data": {
      "text/markdown": [
       "<span style=\"color:#3366cc\">Hint:</span> Use `groupby()`, and provide a list of columns to group by.  You may also find `size()` and `sort_values()` to be useful!"
      ],
      "text/plain": [
       "Hint: Use `groupby()`, and provide a list of columns to group by.  You may also find `size()` and `sort_values()` to be useful!"
      ]
     },
     "metadata": {},
     "output_type": "display_data"
    }
   ],
   "source": [
    "q6.hint()\n",
    "#q6.solution()"
   ]
  },
  {
   "cell_type": "markdown",
   "id": "89a8512a",
   "metadata": {
    "papermill": {
     "duration": 0.031888,
     "end_time": "2022-03-28T18:32:40.826403",
     "exception": false,
     "start_time": "2022-03-28T18:32:40.794515",
     "status": "completed"
    },
    "tags": []
   },
   "source": [
    "# Keep going\n",
    "\n",
    "Move on to the [**data types and missing data**](https://www.kaggle.com/residentmario/data-types-and-missing-values)."
   ]
  },
  {
   "cell_type": "markdown",
   "id": "7bb2b75e",
   "metadata": {
    "papermill": {
     "duration": 0.030915,
     "end_time": "2022-03-28T18:32:40.888477",
     "exception": false,
     "start_time": "2022-03-28T18:32:40.857562",
     "status": "completed"
    },
    "tags": []
   },
   "source": [
    "---\n",
    "\n",
    "\n",
    "\n",
    "\n",
    "*Have questions or comments? Visit the [course discussion forum](https://www.kaggle.com/learn/pandas/discussion) to chat with other learners.*"
   ]
  }
 ],
 "metadata": {
  "kernelspec": {
   "display_name": "Python 3",
   "language": "python",
   "name": "python3"
  },
  "language_info": {
   "codemirror_mode": {
    "name": "ipython",
    "version": 3
   },
   "file_extension": ".py",
   "mimetype": "text/x-python",
   "name": "python",
   "nbconvert_exporter": "python",
   "pygments_lexer": "ipython3",
   "version": "3.7.12"
  },
  "papermill": {
   "default_parameters": {},
   "duration": 15.597507,
   "end_time": "2022-03-28T18:32:41.631000",
   "environment_variables": {},
   "exception": null,
   "input_path": "__notebook__.ipynb",
   "output_path": "__notebook__.ipynb",
   "parameters": {},
   "start_time": "2022-03-28T18:32:26.033493",
   "version": "2.3.3"
  }
 },
 "nbformat": 4,
 "nbformat_minor": 5
}
