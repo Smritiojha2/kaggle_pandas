{
 "cells": [
  {
   "cell_type": "markdown",
   "id": "e54a7524",
   "metadata": {
    "papermill": {
     "duration": 0.015872,
     "end_time": "2022-03-29T07:27:49.986079",
     "exception": false,
     "start_time": "2022-03-29T07:27:49.970207",
     "status": "completed"
    },
    "tags": []
   },
   "source": [
    "**This notebook is an exercise in the [Pandas](https://www.kaggle.com/learn/pandas) course.  You can reference the tutorial at [this link](https://www.kaggle.com/residentmario/data-types-and-missing-values).**\n",
    "\n",
    "---\n"
   ]
  },
  {
   "cell_type": "markdown",
   "id": "b7f9e341",
   "metadata": {
    "papermill": {
     "duration": 0.014273,
     "end_time": "2022-03-29T07:27:50.016070",
     "exception": false,
     "start_time": "2022-03-29T07:27:50.001797",
     "status": "completed"
    },
    "tags": []
   },
   "source": [
    "# Introduction\n",
    "\n",
    "Run the following cell to load your data and some utility functions."
   ]
  },
  {
   "cell_type": "code",
   "execution_count": 1,
   "id": "71c95af6",
   "metadata": {
    "execution": {
     "iopub.execute_input": "2022-03-29T07:27:50.058730Z",
     "iopub.status.busy": "2022-03-29T07:27:50.051927Z",
     "iopub.status.idle": "2022-03-29T07:27:52.946999Z",
     "shell.execute_reply": "2022-03-29T07:27:52.946254Z",
     "shell.execute_reply.started": "2022-03-29T07:20:13.517162Z"
    },
    "papermill": {
     "duration": 2.916522,
     "end_time": "2022-03-29T07:27:52.947151",
     "exception": false,
     "start_time": "2022-03-29T07:27:50.030629",
     "status": "completed"
    },
    "tags": []
   },
   "outputs": [
    {
     "name": "stdout",
     "output_type": "stream",
     "text": [
      "Setup complete.\n"
     ]
    }
   ],
   "source": [
    "import pandas as pd\n",
    "\n",
    "reviews = pd.read_csv(\"../input/wine-reviews/winemag-data-130k-v2.csv\", index_col=0)\n",
    "\n",
    "from learntools.core import binder; binder.bind(globals())\n",
    "from learntools.pandas.data_types_and_missing_data import *\n",
    "print(\"Setup complete.\")"
   ]
  },
  {
   "cell_type": "markdown",
   "id": "702d0f2b",
   "metadata": {
    "papermill": {
     "duration": 0.014979,
     "end_time": "2022-03-29T07:27:52.978017",
     "exception": false,
     "start_time": "2022-03-29T07:27:52.963038",
     "status": "completed"
    },
    "tags": []
   },
   "source": [
    "# Exercises"
   ]
  },
  {
   "cell_type": "markdown",
   "id": "9a3858d2",
   "metadata": {
    "papermill": {
     "duration": 0.014904,
     "end_time": "2022-03-29T07:27:53.008155",
     "exception": false,
     "start_time": "2022-03-29T07:27:52.993251",
     "status": "completed"
    },
    "tags": []
   },
   "source": [
    "## 1. \n",
    "What is the data type of the `points` column in the dataset?"
   ]
  },
  {
   "cell_type": "code",
   "execution_count": 2,
   "id": "f5195fba",
   "metadata": {
    "execution": {
     "iopub.execute_input": "2022-03-29T07:27:53.045201Z",
     "iopub.status.busy": "2022-03-29T07:27:53.044296Z",
     "iopub.status.idle": "2022-03-29T07:27:53.052062Z",
     "shell.execute_reply": "2022-03-29T07:27:53.051580Z",
     "shell.execute_reply.started": "2022-03-29T07:20:23.461048Z"
    },
    "papermill": {
     "duration": 0.028852,
     "end_time": "2022-03-29T07:27:53.052198",
     "exception": false,
     "start_time": "2022-03-29T07:27:53.023346",
     "status": "completed"
    },
    "tags": []
   },
   "outputs": [
    {
     "data": {
      "application/javascript": [
       "parent.postMessage({\"jupyterEvent\": \"custom.exercise_interaction\", \"data\": {\"outcomeType\": 1, \"valueTowardsCompletion\": 0.25, \"interactionType\": 1, \"questionType\": 1, \"questionId\": \"1_PointsDtype\", \"learnToolsVersion\": \"0.3.4\", \"failureMessage\": \"\", \"exceptionClass\": \"\", \"trace\": \"\"}}, \"*\")"
      ],
      "text/plain": [
       "<IPython.core.display.Javascript object>"
      ]
     },
     "metadata": {},
     "output_type": "display_data"
    },
    {
     "data": {
      "text/markdown": [
       "<span style=\"color:#33cc33\">Correct</span>"
      ],
      "text/plain": [
       "Correct"
      ]
     },
     "metadata": {},
     "output_type": "display_data"
    }
   ],
   "source": [
    "# Your code here\n",
    "dtype = reviews.points.dtype\n",
    "\n",
    "# Check your answer\n",
    "q1.check()"
   ]
  },
  {
   "cell_type": "code",
   "execution_count": 3,
   "id": "78147a52",
   "metadata": {
    "execution": {
     "iopub.execute_input": "2022-03-29T07:27:53.088125Z",
     "iopub.status.busy": "2022-03-29T07:27:53.087491Z",
     "iopub.status.idle": "2022-03-29T07:27:53.090132Z",
     "shell.execute_reply": "2022-03-29T07:27:53.090663Z"
    },
    "papermill": {
     "duration": 0.022187,
     "end_time": "2022-03-29T07:27:53.090824",
     "exception": false,
     "start_time": "2022-03-29T07:27:53.068637",
     "status": "completed"
    },
    "tags": []
   },
   "outputs": [],
   "source": [
    "#q1.hint()\n",
    "#q1.solution()"
   ]
  },
  {
   "cell_type": "markdown",
   "id": "70b3b3e6",
   "metadata": {
    "papermill": {
     "duration": 0.016188,
     "end_time": "2022-03-29T07:27:53.123884",
     "exception": false,
     "start_time": "2022-03-29T07:27:53.107696",
     "status": "completed"
    },
    "tags": []
   },
   "source": [
    "## 2. \n",
    "Create a Series from entries in the `points` column, but convert the entries to strings. Hint: strings are `str` in native Python."
   ]
  },
  {
   "cell_type": "code",
   "execution_count": 4,
   "id": "62ebd8d1",
   "metadata": {
    "execution": {
     "iopub.execute_input": "2022-03-29T07:27:53.160090Z",
     "iopub.status.busy": "2022-03-29T07:27:53.159435Z",
     "iopub.status.idle": "2022-03-29T07:27:53.297851Z",
     "shell.execute_reply": "2022-03-29T07:27:53.298346Z",
     "shell.execute_reply.started": "2022-03-29T07:20:26.561520Z"
    },
    "papermill": {
     "duration": 0.158203,
     "end_time": "2022-03-29T07:27:53.298536",
     "exception": false,
     "start_time": "2022-03-29T07:27:53.140333",
     "status": "completed"
    },
    "tags": []
   },
   "outputs": [
    {
     "data": {
      "application/javascript": [
       "parent.postMessage({\"jupyterEvent\": \"custom.exercise_interaction\", \"data\": {\"outcomeType\": 1, \"valueTowardsCompletion\": 0.25, \"interactionType\": 1, \"questionType\": 1, \"questionId\": \"2_StrPoints\", \"learnToolsVersion\": \"0.3.4\", \"failureMessage\": \"\", \"exceptionClass\": \"\", \"trace\": \"\"}}, \"*\")"
      ],
      "text/plain": [
       "<IPython.core.display.Javascript object>"
      ]
     },
     "metadata": {},
     "output_type": "display_data"
    },
    {
     "data": {
      "text/markdown": [
       "<span style=\"color:#33cc33\">Correct</span>"
      ],
      "text/plain": [
       "Correct"
      ]
     },
     "metadata": {},
     "output_type": "display_data"
    }
   ],
   "source": [
    "point_strings = reviews.points.astype('str')\n",
    "\n",
    "# Check your answer\n",
    "q2.check()"
   ]
  },
  {
   "cell_type": "code",
   "execution_count": 5,
   "id": "4f8b2b54",
   "metadata": {
    "execution": {
     "iopub.execute_input": "2022-03-29T07:27:53.337737Z",
     "iopub.status.busy": "2022-03-29T07:27:53.336697Z",
     "iopub.status.idle": "2022-03-29T07:27:53.339867Z",
     "shell.execute_reply": "2022-03-29T07:27:53.340438Z"
    },
    "papermill": {
     "duration": 0.023825,
     "end_time": "2022-03-29T07:27:53.340634",
     "exception": false,
     "start_time": "2022-03-29T07:27:53.316809",
     "status": "completed"
    },
    "tags": []
   },
   "outputs": [],
   "source": [
    "#q2.hint()\n",
    "#q2.solution()"
   ]
  },
  {
   "cell_type": "markdown",
   "id": "0e7ac0cf",
   "metadata": {
    "papermill": {
     "duration": 0.017469,
     "end_time": "2022-03-29T07:27:53.376178",
     "exception": false,
     "start_time": "2022-03-29T07:27:53.358709",
     "status": "completed"
    },
    "tags": []
   },
   "source": [
    "## 3.\n",
    "Sometimes the price column is null. How many reviews in the dataset are missing a price?"
   ]
  },
  {
   "cell_type": "code",
   "execution_count": 6,
   "id": "dfa9f245",
   "metadata": {
    "execution": {
     "iopub.execute_input": "2022-03-29T07:27:53.414775Z",
     "iopub.status.busy": "2022-03-29T07:27:53.414163Z",
     "iopub.status.idle": "2022-03-29T07:27:53.420901Z",
     "shell.execute_reply": "2022-03-29T07:27:53.421481Z",
     "shell.execute_reply.started": "2022-03-29T07:20:33.650448Z"
    },
    "papermill": {
     "duration": 0.027648,
     "end_time": "2022-03-29T07:27:53.421688",
     "exception": false,
     "start_time": "2022-03-29T07:27:53.394040",
     "status": "completed"
    },
    "tags": []
   },
   "outputs": [
    {
     "data": {
      "application/javascript": [
       "parent.postMessage({\"jupyterEvent\": \"custom.exercise_interaction\", \"data\": {\"outcomeType\": 1, \"valueTowardsCompletion\": 0.25, \"interactionType\": 1, \"questionType\": 1, \"questionId\": \"3_CountMissingPrices\", \"learnToolsVersion\": \"0.3.4\", \"failureMessage\": \"\", \"exceptionClass\": \"\", \"trace\": \"\"}}, \"*\")"
      ],
      "text/plain": [
       "<IPython.core.display.Javascript object>"
      ]
     },
     "metadata": {},
     "output_type": "display_data"
    },
    {
     "data": {
      "text/markdown": [
       "<span style=\"color:#33cc33\">Correct</span>"
      ],
      "text/plain": [
       "Correct"
      ]
     },
     "metadata": {},
     "output_type": "display_data"
    }
   ],
   "source": [
    "n_missing_prices = reviews.price.isnull().sum()\n",
    "# Check your answer\n",
    "q3.check()"
   ]
  },
  {
   "cell_type": "code",
   "execution_count": 7,
   "id": "42406250",
   "metadata": {
    "execution": {
     "iopub.execute_input": "2022-03-29T07:27:53.462856Z",
     "iopub.status.busy": "2022-03-29T07:27:53.462241Z",
     "iopub.status.idle": "2022-03-29T07:27:53.465030Z",
     "shell.execute_reply": "2022-03-29T07:27:53.465628Z"
    },
    "papermill": {
     "duration": 0.025016,
     "end_time": "2022-03-29T07:27:53.465795",
     "exception": false,
     "start_time": "2022-03-29T07:27:53.440779",
     "status": "completed"
    },
    "tags": []
   },
   "outputs": [],
   "source": [
    "#q3.hint()\n",
    "#q3.solution()"
   ]
  },
  {
   "cell_type": "markdown",
   "id": "30ed7a70",
   "metadata": {
    "papermill": {
     "duration": 0.018932,
     "end_time": "2022-03-29T07:27:53.504128",
     "exception": false,
     "start_time": "2022-03-29T07:27:53.485196",
     "status": "completed"
    },
    "tags": []
   },
   "source": [
    "## 4.\n",
    "What are the most common wine-producing regions? Create a Series counting the number of times each value occurs in the `region_1` field. This field is often missing data, so replace missing values with `Unknown`. Sort in descending order.  Your output should look something like this:\n",
    "\n",
    "```\n",
    "Unknown                    21247\n",
    "Napa Valley                 4480\n",
    "                           ...  \n",
    "Bardolino Superiore            1\n",
    "Primitivo del Tarantino        1\n",
    "Name: region_1, Length: 1230, dtype: int64\n",
    "```"
   ]
  },
  {
   "cell_type": "code",
   "execution_count": 8,
   "id": "150ff48e",
   "metadata": {
    "execution": {
     "iopub.execute_input": "2022-03-29T07:27:53.545568Z",
     "iopub.status.busy": "2022-03-29T07:27:53.544938Z",
     "iopub.status.idle": "2022-03-29T07:27:53.620606Z",
     "shell.execute_reply": "2022-03-29T07:27:53.619974Z",
     "shell.execute_reply.started": "2022-03-29T07:27:14.989034Z"
    },
    "papermill": {
     "duration": 0.09739,
     "end_time": "2022-03-29T07:27:53.620744",
     "exception": false,
     "start_time": "2022-03-29T07:27:53.523354",
     "status": "completed"
    },
    "tags": []
   },
   "outputs": [
    {
     "data": {
      "application/javascript": [
       "parent.postMessage({\"jupyterEvent\": \"custom.exercise_interaction\", \"data\": {\"outcomeType\": 1, \"valueTowardsCompletion\": 0.25, \"interactionType\": 1, \"questionType\": 2, \"questionId\": \"4_ReviewsPerRegion\", \"learnToolsVersion\": \"0.3.4\", \"failureMessage\": \"\", \"exceptionClass\": \"\", \"trace\": \"\"}}, \"*\")"
      ],
      "text/plain": [
       "<IPython.core.display.Javascript object>"
      ]
     },
     "metadata": {},
     "output_type": "display_data"
    },
    {
     "data": {
      "text/markdown": [
       "<span style=\"color:#33cc33\">Correct</span>"
      ],
      "text/plain": [
       "Correct"
      ]
     },
     "metadata": {},
     "output_type": "display_data"
    }
   ],
   "source": [
    "reviews_per_region = reviews.region_1.fillna(\"Unknown\").value_counts().sort_values(ascending=False)\n",
    "reviews_per_region\n",
    "# Check your answer\n",
    "q4.check()"
   ]
  },
  {
   "cell_type": "code",
   "execution_count": 9,
   "id": "d8df974d",
   "metadata": {
    "execution": {
     "iopub.execute_input": "2022-03-29T07:27:53.666747Z",
     "iopub.status.busy": "2022-03-29T07:27:53.665711Z",
     "iopub.status.idle": "2022-03-29T07:27:53.668140Z",
     "shell.execute_reply": "2022-03-29T07:27:53.668664Z",
     "shell.execute_reply.started": "2022-03-29T07:24:42.000924Z"
    },
    "papermill": {
     "duration": 0.027617,
     "end_time": "2022-03-29T07:27:53.668833",
     "exception": false,
     "start_time": "2022-03-29T07:27:53.641216",
     "status": "completed"
    },
    "tags": []
   },
   "outputs": [],
   "source": [
    "#q4.hint()\n",
    "#q4.solution()"
   ]
  },
  {
   "cell_type": "markdown",
   "id": "5e46b780",
   "metadata": {
    "papermill": {
     "duration": 0.020613,
     "end_time": "2022-03-29T07:27:53.710216",
     "exception": false,
     "start_time": "2022-03-29T07:27:53.689603",
     "status": "completed"
    },
    "tags": []
   },
   "source": [
    "# Keep going\n",
    "\n",
    "Move on to **[renaming and combining](https://www.kaggle.com/residentmario/renaming-and-combining)**."
   ]
  },
  {
   "cell_type": "markdown",
   "id": "a97d6c7c",
   "metadata": {
    "papermill": {
     "duration": 0.020454,
     "end_time": "2022-03-29T07:27:53.751479",
     "exception": false,
     "start_time": "2022-03-29T07:27:53.731025",
     "status": "completed"
    },
    "tags": []
   },
   "source": [
    "---\n",
    "\n",
    "\n",
    "\n",
    "\n",
    "*Have questions or comments? Visit the [course discussion forum](https://www.kaggle.com/learn/pandas/discussion) to chat with other learners.*"
   ]
  }
 ],
 "metadata": {
  "kernelspec": {
   "display_name": "Python 3",
   "language": "python",
   "name": "python3"
  },
  "language_info": {
   "codemirror_mode": {
    "name": "ipython",
    "version": 3
   },
   "file_extension": ".py",
   "mimetype": "text/x-python",
   "name": "python",
   "nbconvert_exporter": "python",
   "pygments_lexer": "ipython3",
   "version": "3.7.12"
  },
  "papermill": {
   "default_parameters": {},
   "duration": 13.803086,
   "end_time": "2022-03-29T07:27:54.381939",
   "environment_variables": {},
   "exception": null,
   "input_path": "__notebook__.ipynb",
   "output_path": "__notebook__.ipynb",
   "parameters": {},
   "start_time": "2022-03-29T07:27:40.578853",
   "version": "2.3.3"
  }
 },
 "nbformat": 4,
 "nbformat_minor": 5
}
